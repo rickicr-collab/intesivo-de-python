{
 "cells": [
  {
   "cell_type": "code",
   "execution_count": null,
   "metadata": {},
   "outputs": [],
   "source": [
    "import pandas as pd\n",
    "import plotly.express as px\n",
    "\n",
    "planilha = pd.read_csv(\"vgsales.csv\", encoding = \"Latin\")\n",
    "# Passo 2: Visualisar a Base de Dados (etápa importante)\n",
    "    #Entender as informações disponiveis (informações que não te ajudam atrapalham)\n",
    "    # procurar as cagadas da bases de dados \n",
    "display(planilha)\n",
    "# Passo 3: Tratamento de Dados \n",
    "    #Valores no formato Errado\n",
    "planilha[\"Year\"] = pd.to_numeric(planilha[\"Year\"], errors = \"raise\")\n",
    "    #Valores Vazios(Preenchidos errados)\n",
    "planilha = planilha.dropna()\n",
    "display(planilha.info())\n",
    "# Passo 4: Analise Inicial = entender como estão as vendas de videogames\n",
    "display(planilha.describe())\n",
    "# Passo 5: Analise Completa = sobre as vendas dos jogos no mundo\n",
    "    # Criar o gráfico\n",
    "for coluna in planilha.columns:\n",
    "    # cria gráfico\n",
    "    grafico = px.histogram(planilha, x = coluna, color = 'Platform', histfunc='avg', text_auto=True, nbins=10)\n",
    "    # Exibe o gráfico\n",
    "    grafico.show()\n",
    "\n",
    "    \n",
    "    \n"
   ]
  },
  {
   "cell_type": "code",
   "execution_count": null,
   "metadata": {},
   "outputs": [],
   "source": [
    "# plataforma com maior vendas \n",
    "# vendas por local\n",
    "# Publishermais populares \n",
    "# o gênero de ação possui mais vendas \n",
    "# no japão as vendas do nintendo DS são maiores \n",
    "# vendas em outros lugares SAT se sai melhor \n",
    "# vendas globais o NItendo DS se sai melhor \n"
   ]
  },
  {
   "cell_type": "code",
   "execution_count": null,
   "metadata": {},
   "outputs": [],
   "source": [
    "# deletando colunas numa base de dados \n",
    "    # informando o nome da base de dados \n",
    "        #  - clientes.csv\n",
    "    # chama o nome da planilha junto com a função drop mais o eixo a ser excluido usando a função axis como parametro\n",
    "    # axis( eixo) = 0 - quando se quer excluir uma linha / 1 - quando se quer excluir uma coluna no entanto ele não edita o arquivo original\n",
    "    \n",
    "        # - Planilha = Planilha.drop(\"o nome do que se quer excluir\" , axis = 0 / 1) \n",
    "        \n",
    "# modificando valores na tabela \n",
    "    # Valores de formato errado\n",
    "        # planilha[\"Year\"] = pd.to_numeric(planilha[\"Year\"], errors = \"\")\n",
    "        # - \"coerce\" = força o erro a ser modificado \n",
    "        # - \"raise\", a análise inválida gerará uma exceção\n",
    "        # - \"ignore\" = ignora o parametro a ser modificado\n",
    "            \n",
    "# Tratamento de Valores vazios \n",
    "    # Utilizando a função especial chamada dropna() o mesmo deleta todas as informaçoes com valores vazios existentes \n",
    "        # planilha = planilha.dropna()\n",
    "        \n",
    "# Visualzando as descriçoes da Tabela \n",
    "    # usando a função describe\n",
    "        #planilha.descibe()\n",
    "        \n",
    "# função para realizar a media dos valores no grafico\n",
    "    # utilizando a função histfunc\n",
    "        #grafico = px.histogram(planilha, x = 'Platform', color = 'Platform', histfunc = 'avg')\n",
    "        # avg = \"average\"\n",
    "        \n",
    "# mostrando dos dados no grafico para cada item relacionado\n",
    "    #utilizando a função text_auto = True\n",
    "        # grafico = px.histogram(planilha, x = 'Platform', y = 'Year', color = 'Platform', text_auto=True)\n",
    "\n",
    "# parametro com função que mostra as divisoes realcionadas aos picos no gráfico\n",
    "    # utilizando a função nbins = valor inteiro = int\n",
    "        # grafico = px.histogram(planilha, x = 'Platform', color = 'Platform', histfunc='avg', text_auto=True, nbins=10)\n",
    "        "
   ]
  }
 ],
 "metadata": {
  "kernelspec": {
   "display_name": "Python 3",
   "language": "python",
   "name": "python3"
  },
  "language_info": {
   "codemirror_mode": {
    "name": "ipython",
    "version": 3
   },
   "file_extension": ".py",
   "mimetype": "text/x-python",
   "name": "python",
   "nbconvert_exporter": "python",
   "pygments_lexer": "ipython3",
   "version": "3.11.2"
  },
  "orig_nbformat": 4
 },
 "nbformat": 4,
 "nbformat_minor": 2
}
