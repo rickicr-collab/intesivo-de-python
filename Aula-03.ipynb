{
 "cells": [
  {
   "cell_type": "code",
   "execution_count": 30,
   "metadata": {
    "collapsed": true
   },
   "outputs": [],
   "source": [
    "# Passo 1: Entrar na internet\n",
    "from selenium import webdriver\n",
    "\n",
    "navegador = webdriver.Chrome()"
   ]
  },
  {
   "cell_type": "code",
   "execution_count": null,
   "metadata": {},
   "outputs": [],
   "source": [
    "# Passo 2: Importar a base de dados\n",
    "\n",
    "import pandas as pd\n",
    "\n",
    "tabela = pd.read_excel(\"cotacoes.xlsx\")\n",
    "display(tabela)\n",
    "\n"
   ]
  },
  {
   "cell_type": "code",
   "execution_count": null,
   "metadata": {},
   "outputs": [],
   "source": [
    "# Passo 3: Para cada produto da nossa base\n",
    "# Passo 4: Pegar o preço atual do produto\n",
    "# Passo 5: Atualizar o preço na base de dados\n",
    "\n",
    "# .send_keys('Meu nome é ricardo) -> escrever algo\n",
    "# .click() -> clicar nele\n",
    "# .get_attribute -> pegar alguma informaçõa dele\n",
    "\n",
    "for linha in tabela.index:\n",
    "    \n",
    "    produto = tabela.loc[linha, \"Produto\"]\n",
    "    # Entrar no site melhor combio: http://www.melhorcambio.com/milho-hoje\n",
    "    link = f\"http://www.melhorcambio.com/{produto}-hoje\"\n",
    "    link = link.replace(\"ó\", \"o\").replace(\"ã\", \"a\").replace(\"á\", \"a\").replace(\"ç\", \"c\").replace(\"ú\", \"u\").replace(\"é\", \"e\")\n",
    "    navegador.get(link)\n",
    "\n",
    "    # pegar cotação do milho \n",
    "    cotacao = navegador.find_element('xpath', '//*[@id=\"cta-saibamais-1aDobra\"]').get_attribute('value')\n",
    "    cotacao = cotacao.replace(\".\", \"\")\n",
    "    cotacao = cotacao.replace(\",\", \".\")\n",
    "    cotacao = float(cotacao)\n",
    "    print(cotacao)\n",
    "\n",
    "\n",
    "    # na coluna Preço atual do milho preencher cotação  do milho\n",
    "    tabela.loc[linha, \"Preço Atual\"] = cotacao\n",
    "    display(tabela)\n",
    "\n",
    "\n",
    "# Passo 6: Decidir qual produto se deve comprar \n",
    "# Passo 7: Exportar a base de dados"
   ]
  },
  {
   "cell_type": "code",
   "execution_count": null,
   "metadata": {},
   "outputs": [],
   "source": [
    "# Passo 6: Decidir qual produto se deve comprar \n",
    "display(tabela)\n",
    "\n",
    "tabela[\"Comprar\"] = tabela[\"Preço Atual\"] < [\"Preço Ideal\"]\n",
    "display(tabela)\n"
   ]
  },
  {
   "cell_type": "code",
   "execution_count": null,
   "metadata": {},
   "outputs": [],
   "source": [
    "# Passo 7: Exportar a base de dados\n",
    "navegador.quit()\n",
    "\n",
    "tabela.to_excel(\"cotacoes_atualizado.xlsx\", index = False)"
   ]
  },
  {
   "cell_type": "code",
   "execution_count": null,
   "metadata": {},
   "outputs": [],
   "source": [
    "# import unicodedata\n",
    "\n",
    "# link = unicodedata.normalize(\"NFKD\", link).encode(\"ascii\", \"ignore\")\n",
    "\n",
    "# o mesmo permite normalizar uma sequencia de caracteres que existe num determinado parametro ou valor num padão de linguagem"
   ]
  }
 ],
 "metadata": {
  "kernelspec": {
   "display_name": "Python 3 (ipykernel)",
   "language": "python",
   "name": "python3"
  },
  "language_info": {
   "codemirror_mode": {
    "name": "ipython",
    "version": 3
   },
   "file_extension": ".py",
   "mimetype": "text/x-python",
   "name": "python",
   "nbconvert_exporter": "python",
   "pygments_lexer": "ipython3",
   "version": "3.11.2"
  }
 },
 "nbformat": 4,
 "nbformat_minor": 2
}
