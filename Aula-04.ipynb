{
 "cells": [
  {
   "cell_type": "code",
   "execution_count": null,
   "metadata": {},
   "outputs": [],
   "source": [
    "#   importando o banco de dados \n",
    "import pandas as pd\n",
    "\n",
    "tabela = pd.read_csv(\"dadosveiculos.csv\")\n",
    "display(tabela)\n",
    "# imprimindo a relação de dados dentro do banco de dados e quais informaçoes estão incorretas ou vazias para realizar tratamento de limpeza nos dados \n",
    "print(tabela.info())\n",
    "\n"
   ]
  },
  {
   "cell_type": "code",
   "execution_count": null,
   "metadata": {},
   "outputs": [],
   "source": [
    "# Analise exploratória\n",
    "    # usandno a função corr() para verificar a correlaçao das informações dentro da tabela \n",
    "    # para realizar a pesquisa de apenas uma unica coluna em relaçao as linhas é so realizar a adição da colina emtre chaves junto coma função\n",
    "    # usando esse formato {{\"nome da coluna \"}} é possivel deixar a coluna com layout mais agradavel\n",
    "display(tabela.corr()[[\"barrels08\"]])\n",
    "    # sobre correlação ( proporçoes baseados nos valores 0 -> 1 quanto mais proximo do 0 menos proprocional é / quanto mais proximo do 1 mais proprocional é )\n",
    "    \n",
    "# opcional criando graficos usando:\n",
    "    #seaborn \n",
    "    # matplotlib\n",
    "import seaborn as sns\n",
    "import matplotlib.pyplot as plt\n",
    "\n",
    "# criando o grafico \n",
    "    # usando o paramentor cmap= atribui um valor de cores para o grafico dependendo do tipo de grafico foi atribuido para a construção como por exemplo heatmap(mapa de calor)\n",
    "    # usando o paramentro annot= atribui as informaçoes de cada seção no grafico apresentado as correlaçoes segundo as informacoes (annot ->2 vem de annotacoes ou anotar)\n",
    "sns.heatmap(tabela.corr()[[\"barrels08\"]], cmap= \"Blues\", annot = True)\n",
    "# exibindo o grafico\n",
    "plt.show()\n"
   ]
  },
  {
   "cell_type": "code",
   "execution_count": 40,
   "metadata": {},
   "outputs": [],
   "source": [
    "# Criando modelagem + algaritmo ( inteligencia Artifical)\n",
    "\n",
    "    # criação da IA\n",
    "    # - separar a base de dados em x e y\n",
    "y = tabela[\"Model\"]\n",
    "x = tabela.drop(\"Model\", axis = 1)\n",
    "    # Treino da IA\n",
    "    # separando dados de treino e dados de teste para inteligencia artificial\n",
    "    # usando o parametro test_size= atribuisse o quantidade de dados a ser usados pela inteligecia artificial para teste \n",
    "    # parametro random_state=\n",
    "from sklearn.model_selection import train_test_split\n",
    "\n",
    "x_treino, x_teste, y_treino, y_teste = train_test_split(x, y, test_size=0.3, random_state=1)\n",
    "\n"
   ]
  },
  {
   "cell_type": "code",
   "execution_count": null,
   "metadata": {},
   "outputs": [],
   "source": [
    "# criação e treino da IA\n",
    "\n",
    "# importa a inteligencia artificial\n",
    "from sklearn.linear_model import LinearRegression\n",
    "from sklearn.ensemble import RandomForestRegressor\n",
    "\n",
    "# criar a ineligencia artificial\n",
    "modelo_regressaolinear = LinearRegression()\n",
    "modelo_arvoredecisao = RandomForestRegressor()\n",
    "\n",
    "# treinar inteligencia artificial\n",
    "modelo_regressaolinear.fit(x_treino, y_treino)\n",
    "modelo_arvoredecisao.fit(x_treino, y_treino)\n"
   ]
  },
  {
   "cell_type": "code",
   "execution_count": null,
   "metadata": {},
   "outputs": [],
   "source": [
    "# previsão\n",
    "\n",
    "previsao_regressaolinear = modelo_regressaolinear.predict(x_teste)\n",
    "previsao_arvoredecisao = modelo_arvoredecisao.predict(x_teste)\n",
    "\n",
    "from sklearn.metrics import r2_score\n",
    "\n",
    "print(r2_score(y_teste, previsao_regressaolinear))\n",
    "print(r2_score(y_teste, previsao_arvoredecisao))"
   ]
  },
  {
   "cell_type": "code",
   "execution_count": null,
   "metadata": {},
   "outputs": [],
   "source": [
    "# Interpretação dos resultados \n",
    "\n",
    "tabela_auxiliar = pd.DataFrame()\n",
    "tabela_auxiliar['y_teste'] = y_teste\n",
    "tabela_auxiliar[\"Previsoes Arvore de Decisão\"] = previsao_arvoredecisao\n",
    "tabela_auxiliar[\"Previsoes da Regressão Linear\"] = previsao_regressaolinear\n",
    "\n",
    "sns.lineplot(data=tabela_auxiliar)\n",
    "plt.show()"
   ]
  },
  {
   "attachments": {},
   "cell_type": "markdown",
   "metadata": {},
   "source": [
    "#ordendnando o grafico de acordo com os valores \n",
    "\n",
    "usando seaborn\n",
    "e usando matplotlib\n",
    "\n"
   ]
  },
  {
   "cell_type": "code",
   "execution_count": null,
   "metadata": {},
   "outputs": [],
   "source": [
    "# Opçional \n",
    "    # criando uma variavel\n",
    "    # correlação = tabela.corr()[[\"barrels08\"]]\n",
    "    # correlacao = correlação.sort_values()\n",
    "    # sns.heatmap(correlação,cmap= \"Blues\", annot = True)\n",
    "    # plt.show()"
   ]
  },
  {
   "attachments": {},
   "cell_type": "markdown",
   "metadata": {},
   "source": [
    "criando novos projetos atualizado \n"
   ]
  },
  {
   "cell_type": "code",
   "execution_count": null,
   "metadata": {},
   "outputs": [],
   "source": []
  }
 ],
 "metadata": {
  "kernelspec": {
   "display_name": "Python 3 (ipykernel)",
   "language": "python",
   "name": "python3"
  },
  "language_info": {
   "codemirror_mode": {
    "name": "ipython",
    "version": 3
   },
   "file_extension": ".py",
   "mimetype": "text/x-python",
   "name": "python",
   "nbconvert_exporter": "python",
   "pygments_lexer": "ipython3",
   "version": "3.11.2"
  }
 },
 "nbformat": 4,
 "nbformat_minor": 2
}
